{
 "cells": [
  {
   "cell_type": "code",
   "execution_count": 2,
   "id": "cdd37d85",
   "metadata": {},
   "outputs": [
    {
     "name": "stdout",
     "output_type": "stream",
     "text": [
      "Test\n"
     ]
    },
    {
     "data": {
      "text/plain": [
       "'invalid input - 1'"
      ]
     },
     "execution_count": 2,
     "metadata": {},
     "output_type": "execute_result"
    }
   ],
   "source": [
    "import ast\n",
    "\n",
    "data = ast.literal_eval(input())\n",
    "\n",
    "\n",
    "def conditional_probability(data):\n",
    "    print(\"Test\")\n",
    "    if not isinstance(data, tuple): return \"invalid input - 1\"\n",
    "    total, passed_math, passed_both = data\n",
    "\n",
    "    # Validate input\n",
    "    if (not all(isinstance(i, int) and i >= 0 for i in data)) or \\\n",
    "       passed_math > total or passed_both > total or passed_both > passed_math or total == 0:\n",
    "        return 'Invalid input'\n",
    "\n",
    "\n",
    "    try:\n",
    "        probability = passed_both / passed_math\n",
    "        return round(probability, 2)\n",
    "    except ZeroDivisionError:\n",
    "        return 'Invalid input'\n",
    "\n",
    "conditional_probability(data)\n"
   ]
  }
 ],
 "metadata": {
  "kernelspec": {
   "display_name": "gen311",
   "language": "python",
   "name": "python3"
  },
  "language_info": {
   "codemirror_mode": {
    "name": "ipython",
    "version": 3
   },
   "file_extension": ".py",
   "mimetype": "text/x-python",
   "name": "python",
   "nbconvert_exporter": "python",
   "pygments_lexer": "ipython3",
   "version": "3.11.13"
  }
 },
 "nbformat": 4,
 "nbformat_minor": 5
}
